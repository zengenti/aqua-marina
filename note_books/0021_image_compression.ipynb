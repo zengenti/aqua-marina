{
 "cells": [
  {
   "cell_type": "markdown",
   "metadata": {},
   "source": [
    "# Create an image\n",
    "\n",
    "Create and empty image and compare the compression between two formats."
   ]
  },
  {
   "cell_type": "code",
   "execution_count": 2,
   "metadata": {},
   "outputs": [],
   "source": [
    "import imageio.v3 as iio\n",
    "import numpy as np\n",
    "\n",
    "edge_dimension = 5000\n",
    "\n",
    "dummy_image = np.zeros((edge_dimension, edge_dimension, 3), dtype=\"uint8\")\n",
    "dummy_image.fill(255) # white\n",
    "\n",
    "iio.imwrite(uri=\"../data/processed/ws.bmp\", image=dummy_image)\n",
    "iio.imwrite(uri=\"../data/processed/ws.jpg\", image=dummy_image)"
   ]
  },
  {
   "cell_type": "markdown",
   "metadata": {},
   "source": [
    "Then check the sizes of the images."
   ]
  },
  {
   "cell_type": "code",
   "execution_count": 7,
   "metadata": {},
   "outputs": [],
   "source": [
    "import os\n",
    "\n",
    "bmp_image_stats = os.stat(\"../data/processed/ws.bmp\")\n",
    "assert 75000000 <= bmp_image_stats.st_size <= 75000100\n",
    "\n",
    "jpg_image_stats = os.stat(\"../data/processed/ws.jpg\")\n",
    "assert 392450 <= jpg_image_stats.st_size <= 392550"
   ]
  }
 ],
 "metadata": {
  "kernelspec": {
   "display_name": "aqua-marina",
   "language": "python",
   "name": "python3"
  },
  "language_info": {
   "codemirror_mode": {
    "name": "ipython",
    "version": 3
   },
   "file_extension": ".py",
   "mimetype": "text/x-python",
   "name": "python",
   "nbconvert_exporter": "python",
   "pygments_lexer": "ipython3",
   "version": "3.11.9"
  }
 },
 "nbformat": 4,
 "nbformat_minor": 2
}
