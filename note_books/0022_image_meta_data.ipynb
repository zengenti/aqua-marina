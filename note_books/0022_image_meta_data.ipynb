{
 "cells": [
  {
   "cell_type": "markdown",
   "metadata": {},
   "source": [
    "# Extract Meta data from an image\n",
    "\n",
    "Jpegs have metadata, so we can tell which images were taken with which camera."
   ]
  },
  {
   "cell_type": "code",
   "execution_count": 4,
   "metadata": {},
   "outputs": [],
   "source": [
    "import imageio.v3 as iio\n",
    "\n",
    "image_path = \"../data/raw/botany/P6190001.JPG\"\n",
    "canopy_image_meta_data = iio.immeta(uri=image_path)\n",
    "assert \"TG-4\" in canopy_image_meta_data[\"Model\"]"
   ]
  },
  {
   "cell_type": "markdown",
   "metadata": {},
   "source": [
    "This is all well and good, but the `exif` data is stored as bytes not a `dict`\n",
    "like the rest of the data.\n",
    "Using `imageio` would require me to handle the bytes so I might be better off\n",
    "using `PIL` or `Pillow`."
   ]
  },
  {
   "cell_type": "code",
   "execution_count": null,
   "metadata": {},
   "outputs": [],
   "source": [
    "from PIL import Image\n",
    "from PIL.ExifTags import TAGS, GPSTAGS\n",
    "\n",
    "pil_image = Image.open()\n",
    "exif_data = pil_image._getexif()\n",
    "assert True"
   ]
  }
 ],
 "metadata": {
  "kernelspec": {
   "display_name": "aqua-marina",
   "language": "python",
   "name": "python3"
  },
  "language_info": {
   "codemirror_mode": {
    "name": "ipython",
    "version": 3
   },
   "file_extension": ".py",
   "mimetype": "text/x-python",
   "name": "python",
   "nbconvert_exporter": "python",
   "pygments_lexer": "ipython3",
   "version": "3.11.9"
  }
 },
 "nbformat": 4,
 "nbformat_minor": 2
}
