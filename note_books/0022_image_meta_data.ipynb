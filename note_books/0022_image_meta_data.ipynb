{
 "cells": [
  {
   "cell_type": "markdown",
   "metadata": {},
   "source": [
    "# Extract Meta data from an image\n",
    "\n",
    "Jpegs have metadata, so we can tell which images were taken with which camera."
   ]
  },
  {
   "cell_type": "code",
   "execution_count": 11,
   "metadata": {
    "tags": []
   },
   "outputs": [],
   "source": [
    "import imageio.v3 as iio\n",
    "\n",
    "image_path = \"../data/raw/botany/P6190001.JPG\"\n",
    "canopy_image_meta_data = iio.immeta(uri=image_path)\n",
    "assert \"TG-4\" in canopy_image_meta_data[\"Model\"]"
   ]
  },
  {
   "cell_type": "markdown",
   "metadata": {},
   "source": [
    "This is all well and good, but the `exif` data is stored as bytes not a `dict`\n",
    "like the rest of the data.\n",
    "Using `imageio` would require me to handle the bytes so I might be better off\n",
    "using `PIL` or `Pillow`."
   ]
  },
  {
   "cell_type": "code",
   "execution_count": 12,
   "metadata": {
    "tags": []
   },
   "outputs": [
    {
     "name": "stdout",
     "output_type": "stream",
     "text": [
      "latitude: N (51.0, 58.0, 11.0) longitude: E (0.0, 26.0, 34.0)\n"
     ]
    }
   ],
   "source": [
    "from PIL import Image\n",
    "from PIL.ExifTags import GPSTAGS, TAGS\n",
    "\n",
    "pil_image = Image.open(image_path)\n",
    "exif_data = pil_image._getexif()\n",
    "exif = {TAGS.get(tag): value for tag, value in exif_data.items() if tag in TAGS}\n",
    "gps_info = exif.get('GPSInfo')\n",
    "gps_data = {GPSTAGS.get(tag): value for tag, value in gps_info.items() if tag in GPSTAGS}\n",
    "\n",
    "lat = gps_data.get('GPSLatitude')\n",
    "lat_direction = gps_data.get('GPSLatitudeRef')\n",
    "lon = gps_data.get('GPSLongitude')\n",
    "lon_direction = gps_data.get('GPSLongitudeRef')\n",
    "\n",
    "print(f\"latitude: {lat_direction} {lat} longitude: {lon_direction} {lon}\")"
   ]
  },
  {
   "cell_type": "markdown",
   "metadata": {},
   "source": [
    "Well at least something comes out."
   ]
  }
 ],
 "metadata": {
  "kernelspec": {
   "display_name": "Python 3 (ipykernel)",
   "language": "python",
   "name": "python3"
  },
  "language_info": {
   "codemirror_mode": {
    "name": "ipython",
    "version": 3
   },
   "file_extension": ".py",
   "mimetype": "text/x-python",
   "name": "python",
   "nbconvert_exporter": "python",
   "pygments_lexer": "ipython3",
   "version": "3.11.9"
  }
 },
 "nbformat": 4,
 "nbformat_minor": 4
}
