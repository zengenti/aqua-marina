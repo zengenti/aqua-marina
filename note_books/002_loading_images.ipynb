{
 "cells": [
  {
   "cell_type": "markdown",
   "id": "08e9220a",
   "metadata": {},
   "source": [
    "# Loading Images\n",
    "\n",
    "Images are stored as `numpy` multidimensional arrays.  This will definitely come in\n",
    "handy and avoid the need to mess about directly with the images."
   ]
  },
  {
   "cell_type": "code",
   "execution_count": 1,
   "id": "e12725d1",
   "metadata": {},
   "outputs": [
    {
     "name": "stdout",
     "output_type": "stream",
     "text": [
      "<class 'numpy.ndarray'>\n"
     ]
    }
   ],
   "source": [
    "import imageio.v3 as iio\n",
    "eight = iio.imread(uri='../data/raw/training/eight.tif')\n",
    "print(type(eight))"
   ]
  }
 ],
 "metadata": {
  "kernelspec": {
   "display_name": "base",
   "language": "python",
   "name": "python3"
  },
  "language_info": {
   "codemirror_mode": {
    "name": "ipython",
    "version": 3
   },
   "file_extension": ".py",
   "mimetype": "text/x-python",
   "name": "python",
   "nbconvert_exporter": "python",
   "pygments_lexer": "ipython3",
   "version": "3.11.9"
  }
 },
 "nbformat": 4,
 "nbformat_minor": 5
}
