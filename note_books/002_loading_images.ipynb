{
 "cells": [
  {
   "cell_type": "markdown",
   "id": "08e9220a",
   "metadata": {},
   "source": [
    "# Image Basics\n",
    "\n",
    "Images are stored as `numpy` multidimensional arrays.  This will definitely come in\n",
    "handy and avoid the need to mess about directly with the images.\n",
    "Renaming the imports seems to be a thing. \n",
    "At least for `numpy` being renamed to `np`."
   ]
  },
  {
   "cell_type": "markdown",
   "id": "b179a8e4",
   "metadata": {},
   "source": [
    "## Loading Images\n",
    "\n",
    "\n",
    "`skimage.io.imread()` uses `iio.imread()`"
   ]
  },
  {
   "cell_type": "code",
   "execution_count": 37,
   "id": "e12725d1",
   "metadata": {},
   "outputs": [
    {
     "name": "stdout",
     "output_type": "stream",
     "text": [
      "(5, 3)\n",
      "[[0. 0. 0.]\n",
      " [0. 1. 0.]\n",
      " [0. 0. 0.]\n",
      " [0. 1. 0.]\n",
      " [0. 0. 0.]]\n",
      "CPU times: user 1.99 ms, sys: 1.28 ms, total: 3.27 ms\n",
      "Wall time: 3.3 ms\n"
     ]
    }
   ],
   "source": [
    "%%time\n",
    "%matplotlib widget\n",
    "\n",
    "\n",
    "import imageio.v3 as iio\n",
    "import numpy as np\n",
    "\n",
    "eight = iio.imread(uri='../data/raw/training/eight.tif')\n",
    "assert isinstance(eight, np.ndarray)\n",
    "\n",
    "print(eight.shape)\n",
    "print(eight)"
   ]
  },
  {
   "cell_type": "markdown",
   "id": "dbbbef8e",
   "metadata": {},
   "source": [
    "See that the coordinates are height then width.\n",
    "left-hand coordinate system.\n",
    "Also the image is just ones and zeros.\n",
    "\n",
    "Display the image with `pyplot`.  Why are t"
   ]
  },
  {
   "cell_type": "code",
   "execution_count": 29,
   "id": "973ed68c",
   "metadata": {},
   "outputs": [
    {
     "data": {
      "text/plain": [
       "<matplotlib.image.AxesImage at 0x13a0614d0>"
      ]
     },
     "execution_count": 29,
     "metadata": {},
     "output_type": "execute_result"
    },
    {
     "data": {
      "application/vnd.jupyter.widget-view+json": {
       "model_id": "dde87dda33bc47738c15b9bd6a75e075",
       "version_major": 2,
       "version_minor": 0
      },
      "image/png": "[encoded data removed]",
      "text/html": [
       "\n",
       "            <div style=\"display: inline-block;\">\n",
       "                <div class=\"jupyter-widgets widget-label\" style=\"text-align: center;\">\n",
       "                    Figure\n",
       "                </div>\n",
       "                <img src='data:image/png;base64,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' width=300.0/>\n",
       "            </div>\n",
       "        "
      ],
      "text/plain": [
       "Canvas(toolbar=Toolbar(toolitems=[('Home', 'Reset original view', 'home', 'home'), ('Back', 'Back to previous …"
      ]
     },
     "metadata": {},
     "output_type": "display_data"
    }
   ],
   "source": [
    "from matplotlib import pyplot\n",
    "\n",
    "the_figure, the_axes = pyplot.subplots(figsize=(3,3))\n",
    "the_axes.imshow(eight)"
   ]
  },
  {
   "cell_type": "markdown",
   "id": "e06a9acd",
   "metadata": {},
   "source": [
    "## Working with Pixels\n",
    "\n",
    "Let's look at the pixels in the image.\n",
    "Edit the image.\n",
    "Then show it with the other one."
   ]
  },
  {
   "cell_type": "code",
   "execution_count": 31,
   "id": "9da860ce-741d-4c94-b6b3-ae5d1bf03f31",
   "metadata": {},
   "outputs": [
    {
     "data": {
      "text/plain": [
       "(-0.5, 2.5, 4.5, -0.5)"
      ]
     },
     "execution_count": 31,
     "metadata": {},
     "output_type": "execute_result"
    },
    {
     "data": {
      "application/vnd.jupyter.widget-view+json": {
       "model_id": "8e411ab64e0a452bbe32a4e1c1348764",
       "version_major": 2,
       "version_minor": 0
      },
      "image/png": "[encoded data removed]",
      "text/html": [
       "\n",
       "            <div style=\"display: inline-block;\">\n",
       "                <div class=\"jupyter-widgets widget-label\" style=\"text-align: center;\">\n",
       "                    Figure\n",
       "                </div>\n",
       "                <img src='data:image/png;base64,iVBORw0KGgoAAAANSUhEUgAAAlgAAAEsCAYAAAAfPc2WAAAAOXRFWHRTb2Z0d2FyZQBNYXRwbG90bGliIHZlcnNpb24zLjguNCwgaHR0cHM6Ly9tYXRwbG90bGliLm9yZy8fJSN1AAAACXBIWXMAAA9hAAAPYQGoP6dpAAAFtklEQVR4nO3YYW0CYRBF0UJQsSow0aCgKquA1AQqkNGvHjY3nSyco+D9meRmTmut9QEAQOY8PQAA4NUILACAmMACAIgJLACAmMACAIgJLACAmMACAIgJLACAmMACAIgJLACAmMACAIgJLACAmMACAIgJLACAmMACAIgJLACAmMACAIgJLACAmMACAIgJLACAmMACAIgJLACAmMACAIgJLACAmMACAIgJLACAmMACAIgJLACAmMACAIgJLACAmMACAIgJLACAmMACAIgJLACAmMACAIhdpgew3+f5a3oCB/Hz+z09gchR7/7+fExP2O22Xacn7OLuZ/lgAQDEBBYAQExgAQDEBBYAQExgAQDEBBYAQExgAQDEBBYAQExgAQDEBBYAQExgAQDEBBYAQExgAQDEBBYAQExgAQDEBBYAQExgAQDEBBYAQExgAQDEBBYAQExgAQDEBBYAQExgAQDEBBYAQExgAQDEBBYAQExgAQDEBBYAQExgAQDEBBYAQExgAQDEBBYAQExgAQDEBBYAQExgAQDEBBYAQExgAQDEBBYAQExgAQDEBBYAQExgAQDEBBYAQExgAQDEBBYAQExgAQDELtMDeD/352N6wm637To9AYAD8MECAIgJLACAmMACAIgJLACAmMACAIgJLACAmMACAIgJLACAmMACAIgJLACAmMACAIgJLACAmMACAIgJLACAmMACAIgJLACAmMACAIgJLACAmMACAIgJLACAmMACAIgJLACAmMACAIgJLACAmMACAIgJLACAmMACAIgJLACAmMACAIgJLACAmMACAIgJLACAmMACAIgJLACAmMACAIgJLACAmMACAIgJLACAmMACAIgJLACAmMACAIgJLACAmMACAIgJLACAmMACAIgJLACAmMACAIgJLACAmMACAIgJLACAmMACAIgJLACAmMACAIgJLACAmMACAIgJLACAmMACAIgJLACAmMACAIgJLACAmMACAIgJLACAmMACAIgJLACAmMACAIgJLACAmMACAIgJLACAmMACAIgJLACAmMACAIgJLACAmMACAIgJLACAmMACAIgJLACAmMACAIgJLACAmMACAIgJLACAmMACAIgJLACAmMACAIgJLACAmMACAIgJLACAmMACAIgJLACAmMACAIgJLACAmMACAIgJLACAmMACAIgJLACAmMACAIgJLACAmMACAIgJLACAmMACAIgJLACAmMACAIgJLACAmMACAIgJLACAmMACAIgJLACAmMACAIgJLACAmMACAIgJLACAmMACAIgJLACAmMACAIgJLACAmMACAIgJLACAmMACAIgJLACAmMACAIgJLACAmMACAIgJLACAmMACAIgJLACAmMACAIgJLACAmMACAIgJLACAmMACAIgJLACAmMACAIgJLACAmMACAIgJLACAmMACAIgJLACAmMACAIgJLACA2GV6AO/ntl2nJwD/zN3zbnywAABiAgsAICawAABiAgsAICawAABiAgsAICawAABiAgsAICawAABiAgsAICawAABiAgsAICawAABiAgsAICawAABiAgsAICawAABiAgsAICawAABiAgsAICawAABiAgsAICawAABiAgsAICawAABiAgsAICawAABiAgsAICawAABiAgsAICawAABiAgsAICawAABiAgsAICawAABiAgsAICawAABiAgsAICawAABiAgsAICawAABiAgsAICawAABiAgsAICawAABip7XWmh4BAPBKfLAAAGICCwAgJrAAAGICCwAgJrAAAGICCwAgJrAAAGICCwAgJrAAAGICCwAgJrAAAGICCwAgJrAAAGICCwAgJrAAAGICCwAgJrAAAGICCwAgJrAAAGICCwAgJrAAAGICCwAgJrAAAGICCwAgJrAAAGICCwAgJrAAAGICCwAgJrAAAGICCwAgJrAAAGICCwAg9gdtCxd31LbTCQAAAABJRU5ErkJggg==' width=600.0/>\n",
       "            </div>\n",
       "        "
      ],
      "text/plain": [
       "Canvas(toolbar=Toolbar(toolitems=[('Home', 'Reset original view', 'home', 'home'), ('Back', 'Back to previous …"
      ]
     },
     "metadata": {},
     "output_type": "display_data"
    }
   ],
   "source": [
    "import copy\n",
    "\n",
    "other_figure, other_axes = pyplot.subplot_mosaic([\n",
    "    ['left', 'right']\n",
    "], figsize=(6, 3))\n",
    "\n",
    "zero = copy.deepcopy(eight)\n",
    "zero[2,1] = 1.0\n",
    "other_axes['left'].imshow(zero)\n",
    "other_axes['left'].axis('off')  # Hide the axes\n",
    "\n",
    "letter_u = copy.deepcopy(eight)\n",
    "letter_u[0:4, 1] = 2.0\n",
    "other_axes['right'].imshow(letter_u)\n",
    "other_axes['right'].axis('off')  # Hide the axes"
   ]
  },
  {
   "cell_type": "markdown",
   "id": "e1642a55",
   "metadata": {},
   "source": [
    "## More Colours\n",
    "\n",
    "256 colours"
   ]
  },
  {
   "cell_type": "code",
   "execution_count": 33,
   "id": "7fa36877",
   "metadata": {},
   "outputs": [
    {
     "name": "stdout",
     "output_type": "stream",
     "text": [
      "[[  0.   0.   0.]\n",
      " [  0. 128.   0.]\n",
      " [255. 255. 255.]\n",
      " [  0. 128.   0.]\n",
      " [  0.   0.   0.]]\n"
     ]
    }
   ],
   "source": [
    "three_colour_eight = copy.deepcopy(eight)\n",
    "three_colour_eight = three_colour_eight * 128\n",
    "three_colour_eight[2, :] = 255\n",
    "print(three_colour_eight)"
   ]
  },
  {
   "cell_type": "code",
   "execution_count": 35,
   "id": "f3936a6f",
   "metadata": {},
   "outputs": [
    {
     "data": {
      "text/plain": [
       "<matplotlib.image.AxesImage at 0x13a1983d0>"
      ]
     },
     "execution_count": 35,
     "metadata": {},
     "output_type": "execute_result"
    },
    {
     "data": {
      "application/vnd.jupyter.widget-view+json": {
       "model_id": "b1143f8b409d4195bd3672dd755b01fb",
       "version_major": 2,
       "version_minor": 0
      },
      "image/png": "[encoded data removed]",
      "text/html": [
       "\n",
       "            <div style=\"display: inline-block;\">\n",
       "                <div class=\"jupyter-widgets widget-label\" style=\"text-align: center;\">\n",
       "                    Figure\n",
       "                </div>\n",
       "                <img src='data:image/png;base64,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' width=300.0/>\n",
       "            </div>\n",
       "        "
      ],
      "text/plain": [
       "Canvas(toolbar=Toolbar(toolitems=[('Home', 'Reset original view', 'home', 'home'), ('Back', 'Back to previous …"
      ]
     },
     "metadata": {},
     "output_type": "display_data"
    }
   ],
   "source": [
    "yet_another_figure, yet_another_axes = pyplot.subplots(figsize=(3,3))\n",
    "yet_another_axes.imshow(three_colour_eight, cmap=pyplot.cm.gray)"
   ]
  },
  {
   "cell_type": "markdown",
   "id": "d981c906",
   "metadata": {},
   "source": [
    "## Even More Colours\n",
    "\n"
   ]
  },
  {
   "cell_type": "code",
   "execution_count": 38,
   "id": "f6e135a2",
   "metadata": {},
   "outputs": [],
   "source": [
    "import numpy as np\n",
    "\n",
    "pseudo_random = np.random.RandomState(seed=42)\n",
    "checker_board = pseudo_random.randint(0, 255, size=(4,4,3))\n",
    "\n",
    "\n"
   ]
  }
 ],
 "metadata": {
  "kernelspec": {
   "display_name": "Python 3 (ipykernel)",
   "language": "python",
   "name": "python3"
  },
  "language_info": {
   "codemirror_mode": {
    "name": "ipython",
    "version": 3
   },
   "file_extension": ".py",
   "mimetype": "text/x-python",
   "name": "python",
   "nbconvert_exporter": "python",
   "pygments_lexer": "ipython3",
   "version": "3.11.9"
  }
 },
 "nbformat": 4,
 "nbformat_minor": 5
}
