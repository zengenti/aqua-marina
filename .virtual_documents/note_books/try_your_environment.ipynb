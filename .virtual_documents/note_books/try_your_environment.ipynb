


import imageio.v3 as iio
import matplotlib.pyplot as plt
import skimage as ski

%matplotlib widget

# load an image
image = iio.imread(uri='../data/colonies-01.tif')

# rotate it by 45 degrees
rotated = ski.transform.rotate(image=image, angle=45)

# display the original image and its rotated version side by side
fig, ax = plt.subplots(1, 2)
ax[0].imshow(image)
ax[1].imshow(rotated)


# Change the images into grayscale then reshow them
image_gray = ski.color.rgb2gray(image)
rotated_gray = ski.color.rgb2gray(rotated)
# display the original image and its rotated version side by side
fig, ax = plt.subplots(1, 2)
ax[0].imshow(image_gray, cmap='gray')
ax[1].imshow(rotated_gray, cmap='gray')








